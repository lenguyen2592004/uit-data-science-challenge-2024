{
 "cells": [
  {
   "cell_type": "code",
   "execution_count": null,
   "metadata": {
    "execution": {
     "iopub.execute_input": "2024-10-19T08:29:26.230406Z",
     "iopub.status.busy": "2024-10-19T08:29:26.229761Z",
     "iopub.status.idle": "2024-10-19T08:29:55.164651Z",
     "shell.execute_reply": "2024-10-19T08:29:55.163573Z",
     "shell.execute_reply.started": "2024-10-19T08:29:26.230361Z"
    },
    "trusted": true
   },
   "outputs": [],
   "source": [
    "!pip install --upgrade pip"
   ]
  },
  {
   "cell_type": "code",
   "execution_count": null,
   "metadata": {
    "execution": {
     "iopub.execute_input": "2024-10-19T08:29:55.167534Z",
     "iopub.status.busy": "2024-10-19T08:29:55.167035Z",
     "iopub.status.idle": "2024-10-19T08:30:00.938969Z",
     "shell.execute_reply": "2024-10-19T08:30:00.937794Z",
     "shell.execute_reply.started": "2024-10-19T08:29:55.167485Z"
    },
    "trusted": true
   },
   "outputs": [],
   "source": [
    "!pip install open_clip_torch"
   ]
  },
  {
   "cell_type": "code",
   "execution_count": null,
   "metadata": {
    "execution": {
     "iopub.execute_input": "2024-10-19T08:30:00.940763Z",
     "iopub.status.busy": "2024-10-19T08:30:00.940425Z",
     "iopub.status.idle": "2024-10-19T08:30:13.982059Z",
     "shell.execute_reply": "2024-10-19T08:30:13.980920Z",
     "shell.execute_reply.started": "2024-10-19T08:30:00.940726Z"
    },
    "trusted": true
   },
   "outputs": [],
   "source": [
    "!pip install git+https://github.com/BloodAxe/pytorch-toolbelt.git\n"
   ]
  },
  {
   "cell_type": "code",
   "execution_count": null,
   "metadata": {
    "execution": {
     "iopub.execute_input": "2024-10-19T08:30:13.986049Z",
     "iopub.status.busy": "2024-10-19T08:30:13.985365Z",
     "iopub.status.idle": "2024-10-19T08:30:15.071017Z",
     "shell.execute_reply": "2024-10-19T08:30:15.069875Z",
     "shell.execute_reply.started": "2024-10-19T08:30:13.986009Z"
    },
    "trusted": true
   },
   "outputs": [],
   "source": [
    "!nvidia-smi"
   ]
  },
  {
   "cell_type": "code",
   "execution_count": null,
   "metadata": {
    "execution": {
     "iopub.execute_input": "2024-10-19T08:30:15.072849Z",
     "iopub.status.busy": "2024-10-19T08:30:15.072469Z",
     "iopub.status.idle": "2024-10-19T08:30:20.239953Z",
     "shell.execute_reply": "2024-10-19T08:30:20.238782Z",
     "shell.execute_reply.started": "2024-10-19T08:30:15.072805Z"
    },
    "trusted": true
   },
   "outputs": [],
   "source": [
    "!pip install torch==2.4.0 torchvision==0.19.0 --index-url https://download.pytorch.org/whl/cu124"
   ]
  },
  {
   "cell_type": "code",
   "execution_count": null,
   "metadata": {
    "execution": {
     "iopub.execute_input": "2024-10-19T08:30:20.242426Z",
     "iopub.status.busy": "2024-10-19T08:30:20.241999Z",
     "iopub.status.idle": "2024-10-19T08:30:24.192138Z",
     "shell.execute_reply": "2024-10-19T08:30:24.191136Z",
     "shell.execute_reply.started": "2024-10-19T08:30:20.242377Z"
    },
    "trusted": true
   },
   "outputs": [],
   "source": [
    "import torch\n",
    "print(torch.cuda.is_available())\n",
    "\n",
    "#  True"
   ]
  },
  {
   "cell_type": "code",
   "execution_count": null,
   "metadata": {
    "execution": {
     "iopub.execute_input": "2024-10-19T08:30:24.193755Z",
     "iopub.status.busy": "2024-10-19T08:30:24.193340Z",
     "iopub.status.idle": "2024-10-19T08:30:27.842469Z",
     "shell.execute_reply": "2024-10-19T08:30:27.841546Z",
     "shell.execute_reply.started": "2024-10-19T08:30:24.193721Z"
    },
    "trusted": true
   },
   "outputs": [],
   "source": [
    "import json\n",
    "import os\n",
    "import torch\n",
    "import torch.nn as nn\n",
    "import torchvision.transforms as transforms\n",
    "from sklearn.metrics import accuracy_score, classification_report\n",
    "from transformers import AutoModel, AutoTokenizer, get_scheduler\n",
    "from torch.utils.data import Dataset, DataLoader, RandomSampler, SequentialSampler\n",
    "from torch.optim import AdamW,Adam\n",
    "from tqdm.notebook import tqdm, trange\n",
    "from time import perf_counter\n",
    "from PIL import Image\n",
    "import pandas as pd"
   ]
  },
  {
   "cell_type": "code",
   "execution_count": null,
   "metadata": {
    "execution": {
     "iopub.execute_input": "2024-10-19T08:30:27.844276Z",
     "iopub.status.busy": "2024-10-19T08:30:27.843702Z",
     "iopub.status.idle": "2024-10-19T08:30:28.865477Z",
     "shell.execute_reply": "2024-10-19T08:30:28.864359Z",
     "shell.execute_reply.started": "2024-10-19T08:30:27.844229Z"
    },
    "trusted": true
   },
   "outputs": [],
   "source": [
    "!export CUDA_VISIBLE_DEVICES=0,1"
   ]
  },
  {
   "cell_type": "code",
   "execution_count": null,
   "metadata": {
    "execution": {
     "iopub.execute_input": "2024-10-19T08:30:28.867271Z",
     "iopub.status.busy": "2024-10-19T08:30:28.866936Z",
     "iopub.status.idle": "2024-10-19T08:30:29.870110Z",
     "shell.execute_reply": "2024-10-19T08:30:29.868791Z",
     "shell.execute_reply.started": "2024-10-19T08:30:28.867234Z"
    },
    "trusted": true
   },
   "outputs": [],
   "source": [
    "!export PYTORCH_CUDA_ALLOC_CONF=expandable_segments:True"
   ]
  },
  {
   "cell_type": "code",
   "execution_count": null,
   "metadata": {
    "execution": {
     "iopub.execute_input": "2024-10-19T08:30:29.874406Z",
     "iopub.status.busy": "2024-10-19T08:30:29.873978Z",
     "iopub.status.idle": "2024-10-19T08:30:29.889316Z",
     "shell.execute_reply": "2024-10-19T08:30:29.888463Z",
     "shell.execute_reply.started": "2024-10-19T08:30:29.874367Z"
    },
    "trusted": true
   },
   "outputs": [],
   "source": [
    "# set random seeds for repeatability\n",
    "import numpy as np\n",
    "import random\n",
    "\n",
    "def set_seed(seed_val):\n",
    "    random.seed(seed_val)\n",
    "    np.random.seed(seed_val)\n",
    "    torch.manual_seed(seed_val)\n",
    "    torch.cuda.manual_seed_all(seed_val)\n",
    "seed_val = 0\n",
    "set_seed(seed_val)"
   ]
  },
  {
   "cell_type": "code",
   "execution_count": null,
   "metadata": {
    "execution": {
     "iopub.execute_input": "2024-10-19T08:30:29.890932Z",
     "iopub.status.busy": "2024-10-19T08:30:29.890527Z",
     "iopub.status.idle": "2024-10-19T08:30:30.061771Z",
     "shell.execute_reply": "2024-10-19T08:30:30.060937Z",
     "shell.execute_reply.started": "2024-10-19T08:30:29.890889Z"
    },
    "trusted": true
   },
   "outputs": [],
   "source": [
    "import pandas\n",
    "df_train=pd.read_csv('/kaggle/input/dsc2024/train.csv')\n",
    "len(df_train)"
   ]
  },
  {
   "cell_type": "code",
   "execution_count": null,
   "metadata": {
    "execution": {
     "iopub.execute_input": "2024-10-19T08:30:30.063217Z",
     "iopub.status.busy": "2024-10-19T08:30:30.062906Z",
     "iopub.status.idle": "2024-10-19T08:30:30.087500Z",
     "shell.execute_reply": "2024-10-19T08:30:30.086656Z",
     "shell.execute_reply.started": "2024-10-19T08:30:30.063184Z"
    },
    "trusted": true
   },
   "outputs": [],
   "source": [
    "import json\n",
    "with open('/kaggle/input/dsc2024/vimmsd-private-test.json', 'r') as f:\n",
    "    data = json.load(f)\n",
    "\n",
    "# Sử dụng json_normalize để làm phẳng dữ liệu trong \"root\"\n",
    "df_test = pd.DataFrame.from_dict(data, orient='index')"
   ]
  },
  {
   "cell_type": "code",
   "execution_count": null,
   "metadata": {
    "execution": {
     "iopub.execute_input": "2024-10-19T08:30:30.089283Z",
     "iopub.status.busy": "2024-10-19T08:30:30.088891Z",
     "iopub.status.idle": "2024-10-19T08:30:30.093828Z",
     "shell.execute_reply": "2024-10-19T08:30:30.092933Z",
     "shell.execute_reply.started": "2024-10-19T08:30:30.089241Z"
    },
    "trusted": true
   },
   "outputs": [],
   "source": [
    "IMAGE_TRAIN_FOLDER='/kaggle/input/dsc2024/training-images/train-images/'\n",
    "IMAGE_TEST_FOLDER='/kaggle/input/dsc2024/private-test-images/test-images/'"
   ]
  },
  {
   "cell_type": "code",
   "execution_count": null,
   "metadata": {
    "execution": {
     "iopub.execute_input": "2024-10-19T08:30:30.095130Z",
     "iopub.status.busy": "2024-10-19T08:30:30.094865Z",
     "iopub.status.idle": "2024-10-19T08:30:30.104507Z",
     "shell.execute_reply": "2024-10-19T08:30:30.103581Z",
     "shell.execute_reply.started": "2024-10-19T08:30:30.095101Z"
    },
    "trusted": true
   },
   "outputs": [],
   "source": [
    "import matplotlib.pyplot as plt\n",
    "\n",
    "def show_sample(row_num):\n",
    "    sample_row = df_train.iloc[row_num]\n",
    "    print('Index:', row_num)\n",
    "    print('Label:', sample_row['label'])\n",
    "    print('Text:', sample_row['caption'])\n",
    "    image_path = IMAGE_TRAIN_FOLDER + sample_row['image']\n",
    "    im = Image.open(image_path)\n",
    "    plt.imshow(im)\n",
    "    plt.axis('off')\n",
    "    plt.show()"
   ]
  },
  {
   "cell_type": "code",
   "execution_count": null,
   "metadata": {
    "execution": {
     "iopub.execute_input": "2024-10-19T08:30:30.106206Z",
     "iopub.status.busy": "2024-10-19T08:30:30.105832Z",
     "iopub.status.idle": "2024-10-19T08:30:30.390384Z",
     "shell.execute_reply": "2024-10-19T08:30:30.389468Z",
     "shell.execute_reply.started": "2024-10-19T08:30:30.106161Z"
    },
    "trusted": true
   },
   "outputs": [],
   "source": [
    "from random import randint\n",
    "show_sample(randint(0, len(df_train)-1))\n"
   ]
  },
  {
   "cell_type": "code",
   "execution_count": null,
   "metadata": {
    "execution": {
     "iopub.execute_input": "2024-10-19T08:30:30.392145Z",
     "iopub.status.busy": "2024-10-19T08:30:30.391751Z",
     "iopub.status.idle": "2024-10-19T08:30:30.421648Z",
     "shell.execute_reply": "2024-10-19T08:30:30.420815Z",
     "shell.execute_reply.started": "2024-10-19T08:30:30.392097Z"
    },
    "trusted": true
   },
   "outputs": [],
   "source": [
    "label_to_id = {lab:i for i, lab in enumerate(df_train['label'].sort_values().unique())}\n",
    "id_to_label = {v:k for k,v in label_to_id.items()}\n",
    "label_to_id"
   ]
  },
  {
   "cell_type": "code",
   "execution_count": null,
   "metadata": {
    "execution": {
     "iopub.execute_input": "2024-10-19T08:30:30.422990Z",
     "iopub.status.busy": "2024-10-19T08:30:30.422709Z",
     "iopub.status.idle": "2024-10-19T08:30:30.428841Z",
     "shell.execute_reply": "2024-10-19T08:30:30.428011Z",
     "shell.execute_reply.started": "2024-10-19T08:30:30.422959Z"
    },
    "trusted": true
   },
   "outputs": [],
   "source": [
    "num_out_labels = len(label_to_id)"
   ]
  },
  {
   "cell_type": "code",
   "execution_count": null,
   "metadata": {
    "execution": {
     "iopub.execute_input": "2024-10-19T08:30:30.430407Z",
     "iopub.status.busy": "2024-10-19T08:30:30.430071Z",
     "iopub.status.idle": "2024-10-19T08:30:30.441601Z",
     "shell.execute_reply": "2024-10-19T08:30:30.440575Z",
     "shell.execute_reply.started": "2024-10-19T08:30:30.430350Z"
    },
    "trusted": true
   },
   "outputs": [],
   "source": [
    "from torch.utils.data import Dataset\n",
    "import pandas as pd\n",
    "from PIL import Image\n",
    "\n",
    "class MultimodalDataset(Dataset):\n",
    "    def __init__(self, train_dataframe, eval_dataframe, label_to_id, model, train=True, caption_col='caption', label_col='label', img_col='image'):\n",
    "        self.train = train\n",
    "        if self.train:\n",
    "            self.data = train_dataframe\n",
    "            self.img_folder = IMAGE_TRAIN_FOLDER\n",
    "        else:\n",
    "            self.data = eval_dataframe\n",
    "            self.img_folder = IMAGE_TEST_FOLDER\n",
    "            \n",
    "        self.label_to_id = label_to_id\n",
    "        self.model = model\n",
    "        self.caption_col = caption_col\n",
    "        self.label_col = label_col\n",
    "        self.img_col = img_col\n",
    "        \n",
    "    def __len__(self):\n",
    "        return len(self.data)\n",
    "\n",
    "    def __getitem__(self, index):\n",
    "        row = self.data.iloc[index]\n",
    "        img_path = self.img_folder + row[self.img_col]\n",
    "        caption = row[self.caption_col]\n",
    "        if self.train:\n",
    "            label = self.label_to_id[row[self.label_col]]\n",
    "        else:\n",
    "            label = None\n",
    "        preprocessor = self.model.preprocessor\n",
    "        tokenizer = self.model.tokenizer\n",
    "\n",
    "        # Preprocess hình ảnh và token hóa văn bản\n",
    "        image = preprocessor(Image.open(img_path))\n",
    "        text = tokenizer(caption)\n",
    "        \n",
    "        if self.train:\n",
    "            return image, text, label\n",
    "        else:\n",
    "            return image, text"
   ]
  },
  {
   "cell_type": "code",
   "execution_count": null,
   "metadata": {
    "execution": {
     "iopub.execute_input": "2024-10-19T08:30:30.442978Z",
     "iopub.status.busy": "2024-10-19T08:30:30.442709Z",
     "iopub.status.idle": "2024-10-19T08:30:30.456458Z",
     "shell.execute_reply": "2024-10-19T08:30:30.455607Z",
     "shell.execute_reply.started": "2024-10-19T08:30:30.442948Z"
    },
    "trusted": true
   },
   "outputs": [],
   "source": []
  },
  {
   "cell_type": "code",
   "execution_count": null,
   "metadata": {
    "execution": {
     "iopub.execute_input": "2024-10-19T08:30:30.457888Z",
     "iopub.status.busy": "2024-10-19T08:30:30.457591Z",
     "iopub.status.idle": "2024-10-19T08:30:30.469940Z",
     "shell.execute_reply": "2024-10-19T08:30:30.469153Z",
     "shell.execute_reply.started": "2024-10-19T08:30:30.457858Z"
    },
    "trusted": true
   },
   "outputs": [],
   "source": [
    "# blank = test_dataset"
   ]
  },
  {
   "cell_type": "code",
   "execution_count": null,
   "metadata": {
    "execution": {
     "iopub.execute_input": "2024-10-19T08:30:30.471135Z",
     "iopub.status.busy": "2024-10-19T08:30:30.470848Z",
     "iopub.status.idle": "2024-10-19T08:30:31.773679Z",
     "shell.execute_reply": "2024-10-19T08:30:31.772881Z",
     "shell.execute_reply.started": "2024-10-19T08:30:30.471105Z"
    },
    "trusted": true
   },
   "outputs": [],
   "source": [
    "import torch\n",
    "import torch.nn as nn\n",
    "import open_clip\n",
    "\n",
    "class MultimodalClassifier(nn.Module):\n",
    "    def __init__(self, model_name, pretrained, num_labels, device):\n",
    "        super(MultimodalClassifier, self).__init__()\n",
    "        \n",
    "        self.model, _, self.preprocessor = open_clip.create_model_and_transforms(model_name=model_name, pretrained=pretrained)\n",
    "        self.tokenizer = open_clip.get_tokenizer(model_name)\n",
    "        \n",
    "        # Freeze các layer của mô hình pretrain\n",
    "        for param in self.model.parameters():\n",
    "            param.requires_grad = True  # Fine-tuning toàn bộ mô hình\n",
    "        \n",
    "        # Sử dụng output_dim của phần vision\n",
    "        visual_output_dim = self.model.visual.trunk.patch_embed.proj.weight.shape[0]\n",
    "        \n",
    "        # Thêm classifier\n",
    "        self.classifier = nn.Linear(2304, num_labels)\n",
    "        self.device = device\n",
    "        self.to(self.device)\n",
    "\n",
    "    def forward(self, images, texts):\n",
    "        if isinstance(self.model, nn.DataParallel):\n",
    "            model = self.model.module\n",
    "        else:\n",
    "            model = self.model\n",
    "\n",
    "        # Trích xuất đặc trưng từ ảnh và văn bản\n",
    "        with torch.no_grad():\n",
    "            image_features = model.encode_image(images.to(self.device))\n",
    "        with torch.no_grad():\n",
    "            text_features = model.encode_text(texts.to(self.device))\n",
    "\n",
    "        # Kết hợp đặc trưng\n",
    "        combined_features = torch.cat((image_features, text_features), 1)\n",
    "        combined_features = combined_features / combined_features.norm(dim=-1, keepdim=True)\n",
    "\n",
    "        # Phân loại\n",
    "        logits = self.classifier(combined_features)\n",
    "        return logits\n",
    "\n"
   ]
  },
  {
   "cell_type": "code",
   "execution_count": null,
   "metadata": {
    "execution": {
     "iopub.execute_input": "2024-10-19T08:30:31.775101Z",
     "iopub.status.busy": "2024-10-19T08:30:31.774786Z",
     "iopub.status.idle": "2024-10-19T08:30:31.779658Z",
     "shell.execute_reply": "2024-10-19T08:30:31.778785Z",
     "shell.execute_reply.started": "2024-10-19T08:30:31.775067Z"
    },
    "trusted": true
   },
   "outputs": [],
   "source": [
    "## training parameters to be used for all models ##\n",
    "num_train_epochs = 30\n",
    "batch_size = 256\n",
    "learning_rate = 1e-2\n",
    "weight_decay = 0.001\n",
    "warmup_steps = 2000"
   ]
  },
  {
   "cell_type": "code",
   "execution_count": null,
   "metadata": {
    "execution": {
     "iopub.execute_input": "2024-10-19T02:57:59.807834Z",
     "iopub.status.busy": "2024-10-19T02:57:59.807511Z",
     "iopub.status.idle": "2024-10-19T08:24:53.061488Z",
     "shell.execute_reply": "2024-10-19T08:24:53.060033Z",
     "shell.execute_reply.started": "2024-10-19T02:57:59.807803Z"
    },
    "trusted": true
   },
   "outputs": [],
   "source": [
    "import torch\n",
    "import torch.nn as nn\n",
    "from torch.optim import AdamW\n",
    "from torch.optim.lr_scheduler import CosineAnnealingLR\n",
    "from torch.utils.data import DataLoader, WeightedRandomSampler, RandomSampler\n",
    "from transformers import get_scheduler\n",
    "from time import perf_counter\n",
    "from tqdm import tqdm, trange\n",
    "import open_clip\n",
    "from pytorch_toolbelt import losses as L\n",
    "\n",
    "# Thiết lập hạt giống ngẫu nhiên cho reproducibility\n",
    "set_seed(seed_val)\n",
    "\n",
    "# Load mô hình OpenCLIP và thêm classifier\n",
    "model_name = \"nllb-clip-large-siglip\"\n",
    "pretrained = \"mrl\"\n",
    "num_labels = 4  # multi-sarcasm, not-sarcasm, image-sarcasm\n",
    "device = torch.device(\"cuda\" if torch.cuda.is_available() else \"cpu\")\n",
    "openclip_model = MultimodalClassifier(model_name, pretrained, num_labels, device)\n",
    "\n",
    "# # Nếu có nhiều hơn 1 GPU, áp dụng DataParallel\n",
    "# device_ids = [0, 1]  # Sử dụng cả hai GPU\n",
    "# torch.cuda.set_device(device_ids[0])\n",
    "# openclip_model = nn.DataParallel(openclip_model, device_ids=device_ids)\n",
    "\n",
    "# if torch.cuda.device_count() > 1:\n",
    "#     print(f\"Let's use {torch.cuda.device_count()} GPUs!\")\n",
    "#     openclip_model = nn.DataParallel(openclip_model)\n",
    "\n",
    "openclip_model = openclip_model.to(device)\n",
    "\n",
    "# Tạo dataset và dataloader\n",
    "train_dataset = MultimodalDataset(train_dataframe=df_train, eval_dataframe=df_test, label_to_id=label_to_id, model=openclip_model, train=True, caption_col='caption', label_col='label', img_col='image')\n",
    "train_sampler = RandomSampler(train_dataset)\n",
    "train_dataloader = DataLoader(dataset=train_dataset, batch_size=batch_size, sampler=train_sampler, num_workers=4)  # Tăng num_workers để tải dữ liệu song song\n",
    "\n",
    "# Số bước huấn luyện tổng\n",
    "t_total = len(train_dataloader) * num_train_epochs\n",
    "\n",
    "# Optimizer và Scheduler\n",
    "optimizer = AdamW(openclip_model.parameters(), lr=learning_rate, weight_decay=weight_decay)\n",
    "scheduler = get_scheduler(name=\"cosine\", optimizer=optimizer, num_warmup_steps=warmup_steps, num_training_steps=t_total)\n",
    "\n",
    "alpha = torch.tensor([1.78072665, 2.55869691, 24.44479595, 140.31891652])\n",
    "alpha = alpha.to(device)\n",
    "\n",
    "# Tiêu chuẩn đánh giá (loss function)\n",
    "criterion = L.CrossEntropyFocalLoss(gamma=1.0, reduction='mean', class_weights=alpha)\n",
    "# criterion = torch.nn.CrossEntropyLoss()\n",
    "# Tạo scaler cho Mixed Precision Training\n",
    "scaler = torch.amp.GradScaler()\n",
    "\n",
    "# Bắt đầu quá trình huấn luyện\n",
    "openclip_model.train()\n",
    "\n",
    "start = perf_counter()\n",
    "for epoch_num in trange(num_train_epochs, desc='Epochs'):\n",
    "    epoch_total_loss = 0\n",
    "\n",
    "    # Duyệt qua từng batch trong train_dataloader\n",
    "    for step, batch in tqdm(enumerate(train_dataloader), total=len(train_dataloader), desc='Batch'):\n",
    "        b_imgs, b_text, b_labels  = batch\n",
    "        \n",
    "        # Tokenize văn bản bằng OpenCLIP\n",
    "        b_inputs = b_text.squeeze(1).to(device)\n",
    "\n",
    "        # Chuyển các tensor dữ liệu sang thiết bị đang sử dụng (GPU)\n",
    "        b_labels = b_labels.to(device)\n",
    "        b_imgs = b_imgs.to(device)\n",
    "\n",
    "        # Reset gradients\n",
    "        optimizer.zero_grad()\n",
    "\n",
    "        # Sử dụng mixed precision cho forward pass\n",
    "        with torch.amp.autocast('cuda'):\n",
    "            b_logits = openclip_model(b_imgs, b_inputs)\n",
    "            loss = criterion(b_logits, b_labels)\n",
    "        \n",
    "        # Sử dụng scaler để scale gradients\n",
    "        scaler.scale(loss).backward()\n",
    "\n",
    "        # Gradient clipping để tránh exploding gradients\n",
    "        torch.nn.utils.clip_grad_norm_(openclip_model.parameters(), max_norm=1.0)\n",
    "\n",
    "        # Cập nhật trọng số với scaled gradients\n",
    "        scaler.step(optimizer)\n",
    "        scaler.update()\n",
    "        \n",
    "        # Cập nhật scheduler\n",
    "        scheduler.step()\n",
    "\n",
    "        epoch_total_loss += loss.item()\n",
    "\n",
    "    # Tính loss trung bình của mỗi epoch\n",
    "    avg_loss = epoch_total_loss / len(train_dataloader)\n",
    "\n",
    "    # In thông tin epoch\n",
    "    print(f'epoch = {epoch_num+1}')\n",
    "    print(f'    epoch_loss = {epoch_total_loss}')\n",
    "    print(f'    avg_epoch_loss = {avg_loss}')\n",
    "    print(f'    learning rate = {optimizer.param_groups[0][\"lr\"]}')\n",
    "    \n",
    "    torch.cuda.empty_cache()\n",
    "    \n",
    "# Lưu mô hình sau mỗi epoch\n",
    "torch.save(openclip_model.state_dict(), 'openclip_model.pth')\n",
    "\n",
    "# Tính thời gian huấn luyện\n",
    "end = perf_counter()\n",
    "training_time = end - start\n",
    "print(f'Training completed in {training_time} seconds')\n"
   ]
  },
  {
   "cell_type": "code",
   "execution_count": null,
   "metadata": {
    "execution": {
     "iopub.execute_input": "2024-10-19T08:30:31.781286Z",
     "iopub.status.busy": "2024-10-19T08:30:31.780833Z",
     "iopub.status.idle": "2024-10-19T08:33:02.934147Z",
     "shell.execute_reply": "2024-10-19T08:33:02.932989Z",
     "shell.execute_reply.started": "2024-10-19T08:30:31.781253Z"
    },
    "trusted": true
   },
   "outputs": [],
   "source": [
    "import torch\n",
    "import json\n",
    "from torch.utils.data import DataLoader, SequentialSampler\n",
    "from tqdm import tqdm\n",
    "\n",
    "# Đường dẫn tới mô hình đã lưu\n",
    "#model_path = '/kaggle/working/openclip_model.pth'  # Cập nhật đường dẫn tới mô hình đã lưu\n",
    "\n",
    "# Load lại mô hình OpenCLIP và thêm classifier\n",
    "#model_name = \"nllb-clip-large-siglip\"\n",
    "#pretrained = \"mrl\"\n",
    "#num_labels = 4  # multi-sarcasm, not-sarcasm, image-sarcasm, text-sarcasm\n",
    "#device = torch.device(\"cuda\" if torch.cuda.is_available() else \"cpu\")\n",
    "\n",
    "# Khởi tạo lại mô hình MultimodalClassifier\n",
    "#openclip_model = MultimodalClassifier(model_name, pretrained, num_labels, device)\n",
    "\n",
    "# Load trọng số đã lưu vào mô hình\n",
    "#openclip_model.load_state_dict(torch.load(model_path))\n",
    "\n",
    "# Đưa mô hình về chế độ đánh giá (eval mode)\n",
    "#openclip_model = openclip_model.to(device)\n",
    "openclip_model.eval()\n",
    "\n",
    "# Tạo dataset và dataloader cho tập test\n",
    "test_dataset = MultimodalDataset(train_dataframe=df_train, eval_dataframe=df_test, label_to_id=label_to_id, model=openclip_model, train=False, caption_col='caption', label_col='label', img_col='image')\n",
    "test_sampler = SequentialSampler(test_dataset)\n",
    "test_dataloader = DataLoader(dataset=test_dataset, batch_size=batch_size, sampler=test_sampler, num_workers=4)\n",
    "\n",
    "# Không tính gradient trong quá trình inference\n",
    "results = {}\n",
    "with torch.no_grad():\n",
    "    for step, batch in tqdm(enumerate(test_dataloader), total=len(test_dataloader), desc='Inference'):\n",
    "        b_imgs, b_text = batch\n",
    "        \n",
    "        # Tokenize văn bản và chuyển các tensor dữ liệu sang thiết bị đang sử dụng (GPU)\n",
    "        b_inputs = b_text.squeeze(1).to(device)\n",
    "        b_imgs = b_imgs.to(device)\n",
    "\n",
    "        # Thực hiện forward pass\n",
    "        with torch.amp.autocast('cuda'):\n",
    "            logits = openclip_model(b_imgs, b_inputs)\n",
    "        \n",
    "        # Lấy nhãn dự đoán (label dự đoán có xác suất lớn nhất)\n",
    "        predictions = torch.argmax(logits, dim=1).cpu().numpy()\n",
    "\n",
    "        # Lấy id của mẫu và lưu nhãn dự đoán\n",
    "        for idx, pred in zip(range(step * batch_size, (step + 1) * batch_size), predictions):\n",
    "            sample_id = test_dataset.data.iloc[idx].name  # Giả sử cột 'id' là index của dataframe\n",
    "            label_name = {v: k for k, v in label_to_id.items()}[pred]  # Đối chiếu nhãn với label_to_id\n",
    "            results[sample_id] = label_name\n",
    "\n",
    "# Lưu kết quả vào file result.json\n",
    "output = {\n",
    "    \"results\": results,\n",
    "    \"phase\": \"test\"\n",
    "}\n",
    "\n",
    "with open('results.json', 'w') as f:\n",
    "    json.dump(output, f, indent=4)\n",
    "\n",
    "print(\"Inference completed. Results saved to results.json.\")\n"
   ]
  },
  {
   "cell_type": "code",
   "execution_count": null,
   "metadata": {},
   "outputs": [],
   "source": []
  }
 ],
 "metadata": {
  "kaggle": {
   "accelerator": "nvidiaTeslaT4",
   "dataSources": [
    {
     "datasetId": 5877210,
     "sourceId": 9627952,
     "sourceType": "datasetVersion"
    },
    {
     "datasetId": 5890979,
     "sourceId": 9646085,
     "sourceType": "datasetVersion"
    },
    {
     "datasetId": 5879213,
     "sourceId": 9850807,
     "sourceType": "datasetVersion"
    }
   ],
   "dockerImageVersionId": 30787,
   "isGpuEnabled": true,
   "isInternetEnabled": true,
   "language": "python",
   "sourceType": "notebook"
  },
  "kernelspec": {
   "display_name": "Python 3",
   "language": "python",
   "name": "python3"
  },
  "language_info": {
   "codemirror_mode": {
    "name": "ipython",
    "version": 3
   },
   "file_extension": ".py",
   "mimetype": "text/x-python",
   "name": "python",
   "nbconvert_exporter": "python",
   "pygments_lexer": "ipython3",
   "version": "3.10.14"
  }
 },
 "nbformat": 4,
 "nbformat_minor": 4
}
