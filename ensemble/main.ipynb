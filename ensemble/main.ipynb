{
 "cells": [
  {
   "cell_type": "code",
   "execution_count": 2,
   "metadata": {},
   "outputs": [
    {
     "name": "stdout",
     "output_type": "stream",
     "text": [
      "         results\n",
      "0    not-sarcasm\n",
      "1    not-sarcasm\n",
      "2    not-sarcasm\n",
      "3    not-sarcasm\n",
      "4  multi-sarcasm\n"
     ]
    }
   ],
   "source": [
    "import pandas as pd\n",
    "from collections import Counter\n",
    "\n",
    "# Read the JSON files\n",
    "clip = pd.read_json(\"clip.json\", orient='records')\n",
    "clipv2 = pd.read_json(\"clipv2.json\", orient='records')\n",
    "visobertbeit = pd.read_json(\"visobertbeit.json\", orient='records')\n",
    "# Assuming each DataFrame has a column named 'label'\n",
    "def voting_method(df1, df2, df3):\n",
    "    final_labels = []\n",
    "    for i in range(len(df1)):\n",
    "        labels = [df1.iloc[i]['results'], df2.iloc[i]['results'], df3.iloc[i]['results']]\n",
    "        most_common_label = Counter(labels).most_common(1)[0][0]\n",
    "        final_labels.append(most_common_label)\n",
    "    \n",
    "    return pd.DataFrame(final_labels, columns=['results'])\n",
    "\n",
    "# Apply the voting method\n",
    "final_df = voting_method(visobertbeit, clipv2, clip)\n",
    "\n",
    "# Display the final DataFrame\n",
    "print(final_df.head())"
   ]
  },
  {
   "cell_type": "code",
   "execution_count": 3,
   "metadata": {},
   "outputs": [
    {
     "name": "stdout",
     "output_type": "stream",
     "text": [
      "Value counts for clip:\n",
      "results\n",
      "multi-sarcasm    852\n",
      "not-sarcasm      327\n",
      "image-sarcasm    325\n",
      "Name: count, dtype: int64\n",
      "\n",
      "Value counts for clipv2:\n",
      "results\n",
      "multi-sarcasm    1121\n",
      "not-sarcasm       272\n",
      "image-sarcasm     111\n",
      "Name: count, dtype: int64\n",
      "\n",
      "Value counts for visobertbeit:\n",
      "results\n",
      "multi-sarcasm    915\n",
      "not-sarcasm      490\n",
      "image-sarcasm     93\n",
      "text-sarcasm       6\n",
      "Name: count, dtype: int64\n"
     ]
    }
   ],
   "source": [
    "# Display the value counts for the 'label' column in each DataFrame\n",
    "print(\"Value counts for clip:\")\n",
    "print(clip['results'].value_counts())\n",
    "\n",
    "print(\"\\nValue counts for clipv2:\")\n",
    "print(clipv2['results'].value_counts())\n",
    "\n",
    "print(\"\\nValue counts for visobertbeit:\")\n",
    "print(visobertbeit['results'].value_counts())"
   ]
  },
  {
   "cell_type": "code",
   "execution_count": 5,
   "metadata": {},
   "outputs": [
    {
     "data": {
      "text/plain": [
       "results\n",
       "multi-sarcasm    1037\n",
       "not-sarcasm       365\n",
       "image-sarcasm     101\n",
       "text-sarcasm        1\n",
       "Name: count, dtype: int64"
      ]
     },
     "execution_count": 5,
     "metadata": {},
     "output_type": "execute_result"
    }
   ],
   "source": [
    "df = pd.read_json(\"results.json\", orient='records')\n",
    "df['results'].value_counts()\n"
   ]
  },
  {
   "cell_type": "code",
   "execution_count": null,
   "metadata": {},
   "outputs": [
    {
     "name": "stdout",
     "output_type": "stream",
     "text": [
      "Inference completed. Results saved.\n"
     ]
    }
   ],
   "source": [
    "import json\n",
    "# Save the final results to a JSON file\n",
    "output = {\n",
    "    \"results\": {str(idx): result for idx, result in enumerate(final_df['results'])},\n",
    "    \"phase\": \"test\"\n",
    "}\n",
    "\n",
    "with open('results.json', 'w') as f:\n",
    "    json.dump(output, f, indent=4)\n",
    "\n",
    "print(\"Inference completed. Results saved.\")"
   ]
  },
  {
   "cell_type": "code",
   "execution_count": null,
   "metadata": {},
   "outputs": [],
   "source": []
  },
  {
   "cell_type": "code",
   "execution_count": null,
   "metadata": {},
   "outputs": [],
   "source": []
  }
 ],
 "metadata": {
  "kernelspec": {
   "display_name": "base",
   "language": "python",
   "name": "python3"
  },
  "language_info": {
   "codemirror_mode": {
    "name": "ipython",
    "version": 3
   },
   "file_extension": ".py",
   "mimetype": "text/x-python",
   "name": "python",
   "nbconvert_exporter": "python",
   "pygments_lexer": "ipython3",
   "version": "3.12.4"
  }
 },
 "nbformat": 4,
 "nbformat_minor": 2
}
